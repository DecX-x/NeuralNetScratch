{
 "cells": [
  {
   "cell_type": "code",
   "execution_count": 38,
   "metadata": {},
   "outputs": [],
   "source": [
    "import numpy as np\n",
    "import matplotlib.pyplot as plt\n",
    "import pandas as pd"
   ]
  },
  {
   "cell_type": "markdown",
   "metadata": {},
   "source": [
    "Import and Prepare Data"
   ]
  },
  {
   "cell_type": "code",
   "execution_count": 39,
   "metadata": {},
   "outputs": [],
   "source": [
    "data = pd.read_csv('data.csv')"
   ]
  },
  {
   "cell_type": "code",
   "execution_count": 40,
   "metadata": {},
   "outputs": [
    {
     "data": {
      "text/html": [
       "<div>\n",
       "<style scoped>\n",
       "    .dataframe tbody tr th:only-of-type {\n",
       "        vertical-align: middle;\n",
       "    }\n",
       "\n",
       "    .dataframe tbody tr th {\n",
       "        vertical-align: top;\n",
       "    }\n",
       "\n",
       "    .dataframe thead th {\n",
       "        text-align: right;\n",
       "    }\n",
       "</style>\n",
       "<table border=\"1\" class=\"dataframe\">\n",
       "  <thead>\n",
       "    <tr style=\"text-align: right;\">\n",
       "      <th></th>\n",
       "      <th>label</th>\n",
       "      <th>pixel0</th>\n",
       "      <th>pixel1</th>\n",
       "      <th>pixel2</th>\n",
       "      <th>pixel3</th>\n",
       "      <th>pixel4</th>\n",
       "      <th>pixel5</th>\n",
       "      <th>pixel6</th>\n",
       "      <th>pixel7</th>\n",
       "      <th>pixel8</th>\n",
       "      <th>...</th>\n",
       "      <th>pixel774</th>\n",
       "      <th>pixel775</th>\n",
       "      <th>pixel776</th>\n",
       "      <th>pixel777</th>\n",
       "      <th>pixel778</th>\n",
       "      <th>pixel779</th>\n",
       "      <th>pixel780</th>\n",
       "      <th>pixel781</th>\n",
       "      <th>pixel782</th>\n",
       "      <th>pixel783</th>\n",
       "    </tr>\n",
       "  </thead>\n",
       "  <tbody>\n",
       "    <tr>\n",
       "      <th>0</th>\n",
       "      <td>1</td>\n",
       "      <td>0</td>\n",
       "      <td>0</td>\n",
       "      <td>0</td>\n",
       "      <td>0</td>\n",
       "      <td>0</td>\n",
       "      <td>0</td>\n",
       "      <td>0</td>\n",
       "      <td>0</td>\n",
       "      <td>0</td>\n",
       "      <td>...</td>\n",
       "      <td>0</td>\n",
       "      <td>0</td>\n",
       "      <td>0</td>\n",
       "      <td>0</td>\n",
       "      <td>0</td>\n",
       "      <td>0</td>\n",
       "      <td>0</td>\n",
       "      <td>0</td>\n",
       "      <td>0</td>\n",
       "      <td>0</td>\n",
       "    </tr>\n",
       "    <tr>\n",
       "      <th>1</th>\n",
       "      <td>0</td>\n",
       "      <td>0</td>\n",
       "      <td>0</td>\n",
       "      <td>0</td>\n",
       "      <td>0</td>\n",
       "      <td>0</td>\n",
       "      <td>0</td>\n",
       "      <td>0</td>\n",
       "      <td>0</td>\n",
       "      <td>0</td>\n",
       "      <td>...</td>\n",
       "      <td>0</td>\n",
       "      <td>0</td>\n",
       "      <td>0</td>\n",
       "      <td>0</td>\n",
       "      <td>0</td>\n",
       "      <td>0</td>\n",
       "      <td>0</td>\n",
       "      <td>0</td>\n",
       "      <td>0</td>\n",
       "      <td>0</td>\n",
       "    </tr>\n",
       "    <tr>\n",
       "      <th>2</th>\n",
       "      <td>1</td>\n",
       "      <td>0</td>\n",
       "      <td>0</td>\n",
       "      <td>0</td>\n",
       "      <td>0</td>\n",
       "      <td>0</td>\n",
       "      <td>0</td>\n",
       "      <td>0</td>\n",
       "      <td>0</td>\n",
       "      <td>0</td>\n",
       "      <td>...</td>\n",
       "      <td>0</td>\n",
       "      <td>0</td>\n",
       "      <td>0</td>\n",
       "      <td>0</td>\n",
       "      <td>0</td>\n",
       "      <td>0</td>\n",
       "      <td>0</td>\n",
       "      <td>0</td>\n",
       "      <td>0</td>\n",
       "      <td>0</td>\n",
       "    </tr>\n",
       "    <tr>\n",
       "      <th>3</th>\n",
       "      <td>4</td>\n",
       "      <td>0</td>\n",
       "      <td>0</td>\n",
       "      <td>0</td>\n",
       "      <td>0</td>\n",
       "      <td>0</td>\n",
       "      <td>0</td>\n",
       "      <td>0</td>\n",
       "      <td>0</td>\n",
       "      <td>0</td>\n",
       "      <td>...</td>\n",
       "      <td>0</td>\n",
       "      <td>0</td>\n",
       "      <td>0</td>\n",
       "      <td>0</td>\n",
       "      <td>0</td>\n",
       "      <td>0</td>\n",
       "      <td>0</td>\n",
       "      <td>0</td>\n",
       "      <td>0</td>\n",
       "      <td>0</td>\n",
       "    </tr>\n",
       "    <tr>\n",
       "      <th>4</th>\n",
       "      <td>0</td>\n",
       "      <td>0</td>\n",
       "      <td>0</td>\n",
       "      <td>0</td>\n",
       "      <td>0</td>\n",
       "      <td>0</td>\n",
       "      <td>0</td>\n",
       "      <td>0</td>\n",
       "      <td>0</td>\n",
       "      <td>0</td>\n",
       "      <td>...</td>\n",
       "      <td>0</td>\n",
       "      <td>0</td>\n",
       "      <td>0</td>\n",
       "      <td>0</td>\n",
       "      <td>0</td>\n",
       "      <td>0</td>\n",
       "      <td>0</td>\n",
       "      <td>0</td>\n",
       "      <td>0</td>\n",
       "      <td>0</td>\n",
       "    </tr>\n",
       "  </tbody>\n",
       "</table>\n",
       "<p>5 rows × 785 columns</p>\n",
       "</div>"
      ],
      "text/plain": [
       "   label  pixel0  pixel1  pixel2  pixel3  pixel4  pixel5  pixel6  pixel7  \\\n",
       "0      1       0       0       0       0       0       0       0       0   \n",
       "1      0       0       0       0       0       0       0       0       0   \n",
       "2      1       0       0       0       0       0       0       0       0   \n",
       "3      4       0       0       0       0       0       0       0       0   \n",
       "4      0       0       0       0       0       0       0       0       0   \n",
       "\n",
       "   pixel8  ...  pixel774  pixel775  pixel776  pixel777  pixel778  pixel779  \\\n",
       "0       0  ...         0         0         0         0         0         0   \n",
       "1       0  ...         0         0         0         0         0         0   \n",
       "2       0  ...         0         0         0         0         0         0   \n",
       "3       0  ...         0         0         0         0         0         0   \n",
       "4       0  ...         0         0         0         0         0         0   \n",
       "\n",
       "   pixel780  pixel781  pixel782  pixel783  \n",
       "0         0         0         0         0  \n",
       "1         0         0         0         0  \n",
       "2         0         0         0         0  \n",
       "3         0         0         0         0  \n",
       "4         0         0         0         0  \n",
       "\n",
       "[5 rows x 785 columns]"
      ]
     },
     "execution_count": 40,
     "metadata": {},
     "output_type": "execute_result"
    }
   ],
   "source": [
    "data.head()"
   ]
  },
  {
   "cell_type": "code",
   "execution_count": 41,
   "metadata": {},
   "outputs": [],
   "source": [
    "data = np.array(data)\n",
    "\n",
    "m,n = data.shape\n",
    "np.random.shuffle(data)"
   ]
  },
  {
   "cell_type": "code",
   "execution_count": 42,
   "metadata": {},
   "outputs": [
    {
     "name": "stdout",
     "output_type": "stream",
     "text": [
      "785\n"
     ]
    }
   ],
   "source": [
    "print(n)"
   ]
  },
  {
   "cell_type": "code",
   "execution_count": 49,
   "metadata": {},
   "outputs": [],
   "source": [
    "test_data = data[0:1000].T\n",
    "\n",
    "Y_test = test_data[0]\n",
    "X_test = test_data[1:n]\n",
    "X_test = X_test / 255.\n",
    "\n",
    "train_data = data[1000:m].T\n",
    "Y_train = train_data[0]\n",
    "X_train = train_data[1:n]\n",
    "X_train = X_train / 255.\n",
    "_, m_train = X_train.shape"
   ]
  },
  {
   "cell_type": "markdown",
   "metadata": {},
   "source": [
    "Building the Neural Network"
   ]
  },
  {
   "cell_type": "code",
   "execution_count": 66,
   "metadata": {},
   "outputs": [],
   "source": [
    "def inparam():\n",
    "    W1 = np.random.rand(10, 784) - 0.5\n",
    "    b1 = np.random.rand(10, 1) - 0.5\n",
    "    W2 = np.random.rand(10, 10) - 0.5\n",
    "    b2 = np.random.rand(10, 1) - 0.5\n",
    "    return W1, b1, W2, b2"
   ]
  },
  {
   "cell_type": "code",
   "execution_count": 78,
   "metadata": {},
   "outputs": [],
   "source": [
    "def ReLU(z):\n",
    "    return np.maximum(z, 0)"
   ]
  },
  {
   "cell_type": "code",
   "execution_count": 79,
   "metadata": {},
   "outputs": [],
   "source": [
    "def softmax(z):\n",
    "    a = np.exp(z) / sum(np.exp(z))\n",
    "    return a"
   ]
  },
  {
   "cell_type": "code",
   "execution_count": 88,
   "metadata": {},
   "outputs": [],
   "source": [
    "def forwardprop(W1, b1, W2, b2, X):\n",
    "    Z1 = W1.dot(X) + b1\n",
    "    A1 = ReLU(Z1)\n",
    "    Z2 = W2.dot(A1) + b2\n",
    "    A2 = softmax(Z2)\n",
    "    return Z1, A1, Z2, A2\n"
   ]
  },
  {
   "cell_type": "code",
   "execution_count": 96,
   "metadata": {},
   "outputs": [],
   "source": [
    "def onehotencoding(Y):\n",
    "    one_hot_Y = np.zeros((Y.size, Y.max() + 1))\n",
    "    one_hot_Y[np.arange(Y.size), Y] = 1\n",
    "    one_hot_Y = one_hot_Y.T\n",
    "    return one_hot_Y"
   ]
  },
  {
   "cell_type": "code",
   "execution_count": 112,
   "metadata": {},
   "outputs": [],
   "source": [
    "def backprop(Z1, A1, Z2, A2, W1, W2, X, Y):\n",
    "    one_hot_Y = onehotencoding(Y)\n",
    "    dZ2 = A2 - one_hot_Y\n",
    "    dW2 = 1 / m * dZ2.dot(A1.T)\n",
    "    db2 = 1 / m * np.sum(dZ2)\n",
    "    dZ1 = W2.T.dot(dZ2) * ReLU_deriv(Z1)\n",
    "    dW1 = 1 / m * dZ1.dot(X.T)\n",
    "    db1 = 1 / m * np.sum(dZ1)\n",
    "    return dW1, db1, dW2, db2\n",
    "    "
   ]
  },
  {
   "cell_type": "code",
   "execution_count": 113,
   "metadata": {},
   "outputs": [],
   "source": [
    "def get_predictions(A2):\n",
    "    return np.argmax(A2, 0)\n",
    "\n",
    "def get_accuracy(predictions, Y):\n",
    "    print(predictions, Y)\n",
    "    return np.sum(predictions == Y) / Y.size\n",
    "\n",
    "def gradient_descent(X, Y, alpha, iterations):\n",
    "    W1, b1, W2, b2 = inparam()\n",
    "    for i in range(iterations):\n",
    "        Z1, A1, Z2, A2 = forwardprop(W1, b1, W2, b2, X)\n",
    "        dW1, db1, dW2, db2 = backprop(Z1, A1, Z2, A2, W1, W2, X, Y)\n",
    "        W1, b1, W2, b2 = param_update(W1, b1, W2, b2, dW1, db1, dW2, db2, alpha)\n",
    "        if i % 10 == 0:\n",
    "            print(\"Iteration: \", i)\n",
    "            predictions = get_predictions(A2)\n",
    "            print(get_accuracy(predictions, Y))\n",
    "    return W1, b1, W2, b2"
   ]
  },
  {
   "cell_type": "code",
   "execution_count": 114,
   "metadata": {},
   "outputs": [
    {
     "name": "stdout",
     "output_type": "stream",
     "text": [
      "Iteration:  0\n",
      "[2 7 2 ... 5 8 5] [6 0 1 ... 7 0 4]\n",
      "0.10541463414634146\n",
      "Iteration:  10\n",
      "[2 7 4 ... 5 7 1] [6 0 1 ... 7 0 4]\n",
      "0.1994878048780488\n",
      "Iteration:  20\n",
      "[2 7 1 ... 5 7 1] [6 0 1 ... 7 0 4]\n",
      "0.2851463414634146\n",
      "Iteration:  30\n",
      "[2 7 1 ... 0 7 1] [6 0 1 ... 7 0 4]\n",
      "0.35536585365853657\n",
      "Iteration:  40\n",
      "[2 0 1 ... 0 7 1] [6 0 1 ... 7 0 4]\n",
      "0.4205121951219512\n",
      "Iteration:  50\n",
      "[2 0 1 ... 0 7 1] [6 0 1 ... 7 0 4]\n",
      "0.4817560975609756\n",
      "Iteration:  60\n",
      "[2 0 1 ... 5 7 1] [6 0 1 ... 7 0 4]\n",
      "0.5347560975609756\n",
      "Iteration:  70\n",
      "[2 0 1 ... 5 0 8] [6 0 1 ... 7 0 4]\n",
      "0.5796097560975609\n",
      "Iteration:  80\n",
      "[2 0 1 ... 5 0 4] [6 0 1 ... 7 0 4]\n",
      "0.6132926829268293\n",
      "Iteration:  90\n",
      "[2 0 1 ... 5 0 4] [6 0 1 ... 7 0 4]\n",
      "0.6404390243902439\n",
      "Iteration:  100\n",
      "[2 0 1 ... 5 0 4] [6 0 1 ... 7 0 4]\n",
      "0.6625853658536586\n",
      "Iteration:  110\n",
      "[2 0 1 ... 5 0 4] [6 0 1 ... 7 0 4]\n",
      "0.6809512195121952\n",
      "Iteration:  120\n",
      "[2 0 1 ... 5 0 4] [6 0 1 ... 7 0 4]\n",
      "0.696390243902439\n",
      "Iteration:  130\n",
      "[2 0 1 ... 7 0 4] [6 0 1 ... 7 0 4]\n",
      "0.7099024390243902\n",
      "Iteration:  140\n",
      "[6 0 1 ... 7 0 4] [6 0 1 ... 7 0 4]\n",
      "0.7226585365853658\n",
      "Iteration:  150\n",
      "[6 0 1 ... 7 0 4] [6 0 1 ... 7 0 4]\n",
      "0.7332195121951219\n",
      "Iteration:  160\n",
      "[6 0 1 ... 7 0 4] [6 0 1 ... 7 0 4]\n",
      "0.7424146341463415\n",
      "Iteration:  170\n",
      "[6 0 1 ... 7 0 4] [6 0 1 ... 7 0 4]\n",
      "0.7507560975609756\n",
      "Iteration:  180\n",
      "[6 0 1 ... 7 0 4] [6 0 1 ... 7 0 4]\n",
      "0.7585121951219512\n",
      "Iteration:  190\n",
      "[6 0 1 ... 7 0 4] [6 0 1 ... 7 0 4]\n",
      "0.7655121951219512\n",
      "Iteration:  200\n",
      "[6 0 1 ... 7 0 4] [6 0 1 ... 7 0 4]\n",
      "0.7719268292682927\n",
      "Iteration:  210\n",
      "[6 0 1 ... 7 0 4] [6 0 1 ... 7 0 4]\n",
      "0.7777560975609756\n",
      "Iteration:  220\n",
      "[6 0 1 ... 7 0 4] [6 0 1 ... 7 0 4]\n",
      "0.7830243902439025\n",
      "Iteration:  230\n",
      "[6 0 1 ... 7 0 4] [6 0 1 ... 7 0 4]\n",
      "0.7883902439024391\n",
      "Iteration:  240\n",
      "[6 0 1 ... 7 0 4] [6 0 1 ... 7 0 4]\n",
      "0.7932926829268293\n",
      "Iteration:  250\n",
      "[6 0 1 ... 7 0 4] [6 0 1 ... 7 0 4]\n",
      "0.797829268292683\n",
      "Iteration:  260\n",
      "[6 0 1 ... 7 0 4] [6 0 1 ... 7 0 4]\n",
      "0.8019512195121952\n",
      "Iteration:  270\n",
      "[6 0 1 ... 7 0 4] [6 0 1 ... 7 0 4]\n",
      "0.8061707317073171\n",
      "Iteration:  280\n",
      "[6 0 1 ... 7 0 4] [6 0 1 ... 7 0 4]\n",
      "0.8098780487804879\n",
      "Iteration:  290\n",
      "[6 0 1 ... 7 0 4] [6 0 1 ... 7 0 4]\n",
      "0.8136341463414634\n",
      "Iteration:  300\n",
      "[6 0 1 ... 7 0 4] [6 0 1 ... 7 0 4]\n",
      "0.8161463414634146\n",
      "Iteration:  310\n",
      "[6 0 1 ... 7 0 4] [6 0 1 ... 7 0 4]\n",
      "0.8193170731707317\n",
      "Iteration:  320\n",
      "[6 0 1 ... 7 0 4] [6 0 1 ... 7 0 4]\n",
      "0.8222439024390243\n",
      "Iteration:  330\n",
      "[6 0 1 ... 7 0 4] [6 0 1 ... 7 0 4]\n",
      "0.824780487804878\n",
      "Iteration:  340\n",
      "[6 0 1 ... 7 0 4] [6 0 1 ... 7 0 4]\n",
      "0.8274146341463414\n",
      "Iteration:  350\n",
      "[6 0 1 ... 7 0 4] [6 0 1 ... 7 0 4]\n",
      "0.8303414634146341\n",
      "Iteration:  360\n",
      "[6 0 1 ... 7 0 4] [6 0 1 ... 7 0 4]\n",
      "0.8328780487804878\n",
      "Iteration:  370\n",
      "[6 0 1 ... 7 0 4] [6 0 1 ... 7 0 4]\n",
      "0.8351463414634146\n",
      "Iteration:  380\n",
      "[6 0 1 ... 7 0 4] [6 0 1 ... 7 0 4]\n",
      "0.8373658536585366\n",
      "Iteration:  390\n",
      "[6 0 1 ... 7 0 4] [6 0 1 ... 7 0 4]\n",
      "0.8392926829268292\n",
      "Iteration:  400\n",
      "[6 0 1 ... 7 0 4] [6 0 1 ... 7 0 4]\n",
      "0.8413658536585366\n",
      "Iteration:  410\n",
      "[6 0 1 ... 7 0 4] [6 0 1 ... 7 0 4]\n",
      "0.8432439024390244\n",
      "Iteration:  420\n",
      "[6 0 1 ... 7 0 4] [6 0 1 ... 7 0 4]\n",
      "0.8448780487804878\n",
      "Iteration:  430\n",
      "[6 0 1 ... 7 0 4] [6 0 1 ... 7 0 4]\n",
      "0.8468048780487805\n",
      "Iteration:  440\n",
      "[6 0 1 ... 7 0 4] [6 0 1 ... 7 0 4]\n",
      "0.848170731707317\n",
      "Iteration:  450\n",
      "[6 0 1 ... 7 0 4] [6 0 1 ... 7 0 4]\n",
      "0.8498048780487805\n",
      "Iteration:  460\n",
      "[6 0 1 ... 7 0 4] [6 0 1 ... 7 0 4]\n",
      "0.8510243902439024\n",
      "Iteration:  470\n",
      "[6 0 1 ... 7 0 4] [6 0 1 ... 7 0 4]\n",
      "0.8523414634146341\n",
      "Iteration:  480\n",
      "[6 0 1 ... 7 0 4] [6 0 1 ... 7 0 4]\n",
      "0.8532682926829268\n",
      "Iteration:  490\n",
      "[6 0 1 ... 7 0 4] [6 0 1 ... 7 0 4]\n",
      "0.8543414634146341\n"
     ]
    }
   ],
   "source": [
    "W1, b1, W2, b2 = gradient_descent(X_train, Y_train, 0.10, 500)"
   ]
  },
  {
   "cell_type": "code",
   "execution_count": 120,
   "metadata": {},
   "outputs": [],
   "source": [
    "def make_predictions(X, W1, b1, W2, b2):\n",
    "    _, _, _, A2 = forwardprop(W1, b1, W2, b2, X)\n",
    "    predictions = get_predictions(A2)\n",
    "    return predictions\n",
    "\n",
    "def testpred(index, W1, b1, W2, b2):\n",
    "    current_image = X_train[:, index, None]\n",
    "    prediction = make_predictions(X_train[:, index, None], W1, b1, W2, b2)\n",
    "    label = Y_train[index]\n",
    "    print(\"Prediction: \", prediction)\n",
    "    print(\"Label: \", label)\n",
    "    \n",
    "    current_image = current_image.reshape((28, 28)) * 255\n",
    "    plt.gray()\n",
    "    plt.imshow(current_image, interpolation='nearest')\n",
    "    plt.show()"
   ]
  },
  {
   "cell_type": "code",
   "execution_count": 121,
   "metadata": {},
   "outputs": [
    {
     "name": "stdout",
     "output_type": "stream",
     "text": [
      "Prediction:  [6]\n",
      "Label:  6\n"
     ]
    },
    {
     "data": {
      "image/png": "[encoded data removed]",
      "text/plain": [
       "<Figure size 640x480 with 1 Axes>"
      ]
     },
     "metadata": {},
     "output_type": "display_data"
    },
    {
     "name": "stdout",
     "output_type": "stream",
     "text": [
      "Prediction:  [0]\n",
      "Label:  0\n"
     ]
    },
    {
     "data": {
      "image/png": "[encoded data removed]",
      "text/plain": [
       "<Figure size 640x480 with 1 Axes>"
      ]
     },
     "metadata": {},
     "output_type": "display_data"
    },
    {
     "name": "stdout",
     "output_type": "stream",
     "text": [
      "Prediction:  [1]\n",
      "Label:  1\n"
     ]
    },
    {
     "data": {
      "image/png": "[encoded data removed]",
      "text/plain": [
       "<Figure size 640x480 with 1 Axes>"
      ]
     },
     "metadata": {},
     "output_type": "display_data"
    },
    {
     "name": "stdout",
     "output_type": "stream",
     "text": [
      "Prediction:  [9]\n",
      "Label:  9\n"
     ]
    },
    {
     "data": {
      "image/png": "[encoded data removed]",
      "text/plain": [
       "<Figure size 640x480 with 1 Axes>"
      ]
     },
     "metadata": {},
     "output_type": "display_data"
    }
   ],
   "source": [
    "testpred(0, W1, b1, W2, b2)\n",
    "testpred(1, W1, b1, W2, b2)\n",
    "testpred(2, W1, b1, W2, b2)\n",
    "testpred(3, W1, b1, W2, b2)"
   ]
  },
  {
   "cell_type": "code",
   "execution_count": null,
   "metadata": {},
   "outputs": [],
   "source": []
  }
 ],
 "metadata": {
  "kernelspec": {
   "display_name": "tensorflow",
   "language": "python",
   "name": "python3"
  },
  "language_info": {
   "codemirror_mode": {
    "name": "ipython",
    "version": 3
   },
   "file_extension": ".py",
   "mimetype": "text/x-python",
   "name": "python",
   "nbconvert_exporter": "python",
   "pygments_lexer": "ipython3",
   "version": "3.9.18"
  }
 },
 "nbformat": 4,
 "nbformat_minor": 2
}
